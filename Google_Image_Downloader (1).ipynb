{
  "nbformat": 4,
  "nbformat_minor": 0,
  "metadata": {
    "colab": {
      "provenance": []
    },
    "kernelspec": {
      "name": "python3",
      "display_name": "Python 3"
    },
    "language_info": {
      "name": "python"
    }
  },
  "cells": [
    {
      "cell_type": "code",
      "source": [
        "# Step 1: Install dependencies\n",
        "!pip install icrawler\n",
        "\n",
        "# Step 2: Import required libraries\n",
        "from icrawler.builtin import GoogleImageCrawler\n",
        "import os\n",
        "\n",
        "# Step 3: Create a function to download images\n",
        "def download_images(keyword, num_images):\n",
        "    folder_name = keyword.replace(\" \", \"_\")  # folder name without spaces\n",
        "\n",
        "    # Create folder if not exists\n",
        "    if not os.path.exists(folder_name):\n",
        "        os.makedirs(folder_name)\n",
        "\n",
        "    # Initialize the crawler\n",
        "    google_crawler = GoogleImageCrawler(storage={'root_dir': folder_name})\n",
        "\n",
        "    # Start downloading\n",
        "    google_crawler.crawl(keyword=keyword, max_num=num_images)\n",
        "    print(f\"\\n✅ {num_images} images of '{keyword}' downloaded to folder '{folder_name}'.\")\n",
        "\n",
        "# Step 4: Ask user for input\n",
        "search_term = input(\"Enter search keyword (e.g., 'beach', 'flowers'): \")\n",
        "num = int(input(\"Enter number of images to download: \"))\n",
        "\n",
        "# Step 5: Run the downloader\n",
        "download_images(search_term, num)"
      ],
      "metadata": {
        "colab": {
          "base_uri": "https://localhost:8080/"
        },
        "id": "yKLsX_Td0-aB",
        "outputId": "ca88f658-7534-423c-b087-1a872e9faba8"
      },
      "execution_count": 2,
      "outputs": [
        {
          "output_type": "stream",
          "name": "stdout",
          "text": [
            "Requirement already satisfied: icrawler in /usr/local/lib/python3.11/dist-packages (0.6.10)\n",
            "Requirement already satisfied: beautifulsoup4 in /usr/local/lib/python3.11/dist-packages (from icrawler) (4.13.4)\n",
            "Requirement already satisfied: bs4 in /usr/local/lib/python3.11/dist-packages (from icrawler) (0.0.2)\n",
            "Requirement already satisfied: lxml in /usr/local/lib/python3.11/dist-packages (from icrawler) (5.4.0)\n",
            "Requirement already satisfied: pillow in /usr/local/lib/python3.11/dist-packages (from icrawler) (11.2.1)\n",
            "Requirement already satisfied: pyyaml in /usr/local/lib/python3.11/dist-packages (from icrawler) (6.0.2)\n",
            "Requirement already satisfied: requests in /usr/local/lib/python3.11/dist-packages (from icrawler) (2.32.3)\n",
            "Requirement already satisfied: six in /usr/local/lib/python3.11/dist-packages (from icrawler) (1.17.0)\n",
            "Requirement already satisfied: soupsieve>1.2 in /usr/local/lib/python3.11/dist-packages (from beautifulsoup4->icrawler) (2.7)\n",
            "Requirement already satisfied: typing-extensions>=4.0.0 in /usr/local/lib/python3.11/dist-packages (from beautifulsoup4->icrawler) (4.14.0)\n",
            "Requirement already satisfied: charset-normalizer<4,>=2 in /usr/local/lib/python3.11/dist-packages (from requests->icrawler) (3.4.2)\n",
            "Requirement already satisfied: idna<4,>=2.5 in /usr/local/lib/python3.11/dist-packages (from requests->icrawler) (3.10)\n",
            "Requirement already satisfied: urllib3<3,>=1.21.1 in /usr/local/lib/python3.11/dist-packages (from requests->icrawler) (2.4.0)\n",
            "Requirement already satisfied: certifi>=2017.4.17 in /usr/local/lib/python3.11/dist-packages (from requests->icrawler) (2025.6.15)\n",
            "Enter search keyword (e.g., 'beach', 'flowers'): Rose\n",
            "Enter number of images to download: 10\n",
            "\n",
            "✅ 10 images of 'Rose' downloaded to folder 'Rose'.\n"
          ]
        }
      ]
    }
  ]
}